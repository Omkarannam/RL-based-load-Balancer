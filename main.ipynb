{
  "nbformat": 4,
  "nbformat_minor": 0,
  "metadata": {
    "colab": {
      "provenance": []
    },
    "kernelspec": {
      "name": "python3",
      "display_name": "Python 3"
    },
    "language_info": {
      "name": "python"
    }
  },
  "cells": [
    {
      "cell_type": "markdown",
      "source": [
        "#  Data Collection: Load Dataset"
      ],
      "metadata": {
        "id": "G9H305co1V5-"
      }
    },
    {
      "cell_type": "code",
      "execution_count": 1,
      "metadata": {
        "colab": {
          "base_uri": "https://localhost:8080/"
        },
        "id": "Xkb6DxhXqcKw",
        "outputId": "cb8914df-cde5-4960-e500-6525837315b1"
      },
      "outputs": [
        {
          "output_type": "stream",
          "name": "stdout",
          "text": [
            "Downloading...\n",
            "From: https://drive.google.com/uc?id=1KEpEe1kFHb0T_fk03DVl8em1QPIX0xwQ\n",
            "To: /content/kaggle.json\n",
            "\r  0% 0.00/70.0 [00:00<?, ?B/s]\r100% 70.0/70.0 [00:00<00:00, 344kB/s]\n"
          ]
        }
      ],
      "source": [
        "!gdown '1KEpEe1kFHb0T_fk03DVl8em1QPIX0xwQ'"
      ]
    },
    {
      "cell_type": "code",
      "source": [
        "!pip install -q kaggle"
      ],
      "metadata": {
        "id": "qHkMfN2vqiIw"
      },
      "execution_count": 2,
      "outputs": []
    },
    {
      "cell_type": "code",
      "source": [
        "!mkdir -p ~/.kaggle\n",
        "!mv kaggle.json ~/.kaggle/\n",
        "!chmod 600 ~/.kaggle/kaggle.json\n"
      ],
      "metadata": {
        "id": "rlMrGhWdqjaq"
      },
      "execution_count": 3,
      "outputs": []
    },
    {
      "cell_type": "code",
      "source": [
        "!kaggle datasets download --force derrickmwiti/google-2019-cluster-sample\n"
      ],
      "metadata": {
        "colab": {
          "base_uri": "https://localhost:8080/"
        },
        "id": "tW5QMwQlqlAC",
        "outputId": "b6d4ea27-3997-4833-9281-4461ecdbd2c5"
      },
      "execution_count": 4,
      "outputs": [
        {
          "output_type": "stream",
          "name": "stdout",
          "text": [
            "Downloading google-2019-cluster-sample.zip to /content\n",
            " 96% 93.0M/96.7M [00:00<00:00, 141MB/s]\n",
            "100% 96.7M/96.7M [00:00<00:00, 126MB/s]\n"
          ]
        }
      ]
    },
    {
      "cell_type": "code",
      "source": [
        "!unzip -o /content/google-2019-cluster-sample.zip"
      ],
      "metadata": {
        "colab": {
          "base_uri": "https://localhost:8080/"
        },
        "id": "5HlfdbmIq7KK",
        "outputId": "a00403e0-e433-4f3f-d752-c1fb37ccdbfb"
      },
      "execution_count": 5,
      "outputs": [
        {
          "output_type": "stream",
          "name": "stdout",
          "text": [
            "Archive:  /content/google-2019-cluster-sample.zip\n",
            "  inflating: borg_traces_data.csv    \n"
          ]
        }
      ]
    },
    {
      "cell_type": "code",
      "source": [
        "import pandas as pd"
      ],
      "metadata": {
        "id": "zF-YEuNgEUeJ"
      },
      "execution_count": 6,
      "outputs": []
    },
    {
      "cell_type": "code",
      "source": [
        "cluster_data_df = pd.read_csv('/content/borg_traces_data.csv')"
      ],
      "metadata": {
        "id": "ariH-62ZERDF"
      },
      "execution_count": 7,
      "outputs": []
    },
    {
      "cell_type": "markdown",
      "source": [
        "# Exploratory Data Analysis (EDA)"
      ],
      "metadata": {
        "id": "TofvOC3y4AhC"
      }
    },
    {
      "cell_type": "code",
      "source": [
        "from prettytable import PrettyTable"
      ],
      "metadata": {
        "id": "Y49vHjCEA2-d"
      },
      "execution_count": 8,
      "outputs": []
    },
    {
      "cell_type": "code",
      "source": [
        "# Display the shape of the dataset\n",
        "table = PrettyTable()\n",
        "table.field_names = [\"Description\", \"Value\"]\n",
        "table.add_row([\"Data Shape\", str(cluster_data_df.shape)])\n",
        "print(table)\n",
        "print(\"\\n\")"
      ],
      "metadata": {
        "colab": {
          "base_uri": "https://localhost:8080/"
        },
        "id": "-pGfba-IBOX5",
        "outputId": "4b960484-792e-4778-b3f1-c6de92a6fd24"
      },
      "execution_count": 9,
      "outputs": [
        {
          "output_type": "stream",
          "name": "stdout",
          "text": [
            "+-------------+--------------+\n",
            "| Description |    Value     |\n",
            "+-------------+--------------+\n",
            "|  Data Shape | (405894, 34) |\n",
            "+-------------+--------------+\n",
            "\n",
            "\n"
          ]
        }
      ]
    },
    {
      "cell_type": "code",
      "source": [
        "from prettytable import PrettyTable\n",
        "\n",
        "# Extract categorical columns\n",
        "categorical_columns = cluster_data_df.select_dtypes(include=['object', 'category']).columns\n",
        "categorical_columns"
      ],
      "metadata": {
        "colab": {
          "base_uri": "https://localhost:8080/"
        },
        "id": "8JoWOuVPGDOP",
        "outputId": "1fbe5a1a-8907-411c-a00a-710c3eb41f39"
      },
      "execution_count": 10,
      "outputs": [
        {
          "output_type": "execute_result",
          "data": {
            "text/plain": [
              "Index(['resource_request', 'constraint', 'user', 'collection_name',\n",
              "       'collection_logical_name', 'start_after_collection_ids',\n",
              "       'average_usage', 'maximum_usage', 'random_sample_usage',\n",
              "       'cpu_usage_distribution', 'tail_cpu_usage_distribution', 'event'],\n",
              "      dtype='object')"
            ]
          },
          "metadata": {},
          "execution_count": 10
        }
      ]
    },
    {
      "cell_type": "code",
      "source": [
        "from prettytable import PrettyTable\n",
        "\n",
        "# Create a PrettyTable object\n",
        "classification_table = PrettyTable()\n",
        "\n",
        "# Add a header to the table\n",
        "classification_table.field_names = [\"Column Name\", \"Data Type\", \"Classification\"]\n",
        "\n",
        "# Function to classify columns as categorical or numerical\n",
        "def classify_column(data_type):\n",
        "    if data_type in ['object', 'category']:\n",
        "        return 'categorical'\n",
        "    else:\n",
        "        return 'numerical'\n",
        "\n",
        "# Loop through each column and add a row to the table for each one\n",
        "for column_name, data_type in zip(cluster_data_df.columns, cluster_data_df.dtypes):\n",
        "    classification = classify_column(data_type)\n",
        "    classification_table.add_row([column_name, str(data_type), classification])\n",
        "\n",
        "# Print the table\n",
        "print(classification_table)\n"
      ],
      "metadata": {
        "colab": {
          "base_uri": "https://localhost:8080/"
        },
        "id": "o_VAMHY3DhdO",
        "outputId": "2d43373e-8bad-4585-d05c-a3f0ca5aef4a"
      },
      "execution_count": 11,
      "outputs": [
        {
          "output_type": "stream",
          "name": "stdout",
          "text": [
            "+---------------------------------+-----------+----------------+\n",
            "|           Column Name           | Data Type | Classification |\n",
            "+---------------------------------+-----------+----------------+\n",
            "|            Unnamed: 0           |   int64   |   numerical    |\n",
            "|               time              |   int64   |   numerical    |\n",
            "|       instance_events_type      |   int64   |   numerical    |\n",
            "|          collection_id          |   int64   |   numerical    |\n",
            "|         scheduling_class        |   int64   |   numerical    |\n",
            "|         collection_type         |   int64   |   numerical    |\n",
            "|             priority            |   int64   |   numerical    |\n",
            "|       alloc_collection_id       |   int64   |   numerical    |\n",
            "|          instance_index         |   int64   |   numerical    |\n",
            "|            machine_id           |   int64   |   numerical    |\n",
            "|         resource_request        |   object  |  categorical   |\n",
            "|            constraint           |   object  |  categorical   |\n",
            "|     collections_events_type     |   int64   |   numerical    |\n",
            "|               user              |   object  |  categorical   |\n",
            "|         collection_name         |   object  |  categorical   |\n",
            "|     collection_logical_name     |   object  |  categorical   |\n",
            "|    start_after_collection_ids   |   object  |  categorical   |\n",
            "|         vertical_scaling        |  float64  |   numerical    |\n",
            "|            scheduler            |  float64  |   numerical    |\n",
            "|            start_time           |   int64   |   numerical    |\n",
            "|             end_time            |   int64   |   numerical    |\n",
            "|          average_usage          |   object  |  categorical   |\n",
            "|          maximum_usage          |   object  |  categorical   |\n",
            "|       random_sample_usage       |   object  |  categorical   |\n",
            "|         assigned_memory         |  float64  |   numerical    |\n",
            "|        page_cache_memory        |  float64  |   numerical    |\n",
            "|      cycles_per_instruction     |  float64  |   numerical    |\n",
            "| memory_accesses_per_instruction |  float64  |   numerical    |\n",
            "|           sample_rate           |  float64  |   numerical    |\n",
            "|      cpu_usage_distribution     |   object  |  categorical   |\n",
            "|   tail_cpu_usage_distribution   |   object  |  categorical   |\n",
            "|             cluster             |   int64   |   numerical    |\n",
            "|              event              |   object  |  categorical   |\n",
            "|              failed             |   int64   |   numerical    |\n",
            "+---------------------------------+-----------+----------------+\n"
          ]
        }
      ]
    },
    {
      "cell_type": "code",
      "source": [
        "# Import the necessary library\n",
        "import pandas as pd\n",
        "\n",
        "# List all columns and their data types\n",
        "data_info = cluster_data_df.info()\n",
        "\n",
        "# If you want to store the information in a variable instead of printing it,\n",
        "# you can use the following code:\n",
        "import io\n",
        "import sys\n",
        "\n",
        "# Backup the standard output\n",
        "backup_stdout = sys.stdout\n",
        "\n",
        "# Create a new standard output as a string buffer\n",
        "sys.stdout = io.StringIO()\n",
        "\n",
        "# Get the info\n",
        "cluster_data_df.info()\n",
        "\n",
        "# Get the info string from the standard output buffer\n",
        "data_info_str = sys.stdout.getvalue()\n",
        "\n",
        "# Restore the standard output to its original value\n",
        "sys.stdout = backup_stdout\n"
      ],
      "metadata": {
        "colab": {
          "base_uri": "https://localhost:8080/"
        },
        "id": "a7cH2UdarlLL",
        "outputId": "737214c9-5c24-440c-f46c-26a64d711536"
      },
      "execution_count": 12,
      "outputs": [
        {
          "output_type": "stream",
          "name": "stdout",
          "text": [
            "<class 'pandas.core.frame.DataFrame'>\n",
            "RangeIndex: 405894 entries, 0 to 405893\n",
            "Data columns (total 34 columns):\n",
            " #   Column                           Non-Null Count   Dtype  \n",
            "---  ------                           --------------   -----  \n",
            " 0   Unnamed: 0                       405894 non-null  int64  \n",
            " 1   time                             405894 non-null  int64  \n",
            " 2   instance_events_type             405894 non-null  int64  \n",
            " 3   collection_id                    405894 non-null  int64  \n",
            " 4   scheduling_class                 405894 non-null  int64  \n",
            " 5   collection_type                  405894 non-null  int64  \n",
            " 6   priority                         405894 non-null  int64  \n",
            " 7   alloc_collection_id              405894 non-null  int64  \n",
            " 8   instance_index                   405894 non-null  int64  \n",
            " 9   machine_id                       405894 non-null  int64  \n",
            " 10  resource_request                 405120 non-null  object \n",
            " 11  constraint                       405894 non-null  object \n",
            " 12  collections_events_type          405894 non-null  int64  \n",
            " 13  user                             405894 non-null  object \n",
            " 14  collection_name                  405894 non-null  object \n",
            " 15  collection_logical_name          405894 non-null  object \n",
            " 16  start_after_collection_ids       405894 non-null  object \n",
            " 17  vertical_scaling                 404935 non-null  float64\n",
            " 18  scheduler                        404935 non-null  float64\n",
            " 19  start_time                       405894 non-null  int64  \n",
            " 20  end_time                         405894 non-null  int64  \n",
            " 21  average_usage                    405894 non-null  object \n",
            " 22  maximum_usage                    405894 non-null  object \n",
            " 23  random_sample_usage              405894 non-null  object \n",
            " 24  assigned_memory                  405894 non-null  float64\n",
            " 25  page_cache_memory                405894 non-null  float64\n",
            " 26  cycles_per_instruction           281206 non-null  float64\n",
            " 27  memory_accesses_per_instruction  281206 non-null  float64\n",
            " 28  sample_rate                      405894 non-null  float64\n",
            " 29  cpu_usage_distribution           405894 non-null  object \n",
            " 30  tail_cpu_usage_distribution      405894 non-null  object \n",
            " 31  cluster                          405894 non-null  int64  \n",
            " 32  event                            405894 non-null  object \n",
            " 33  failed                           405894 non-null  int64  \n",
            "dtypes: float64(7), int64(15), object(12)\n",
            "memory usage: 105.3+ MB\n"
          ]
        }
      ]
    },
    {
      "cell_type": "code",
      "source": [
        "from prettytable import PrettyTable\n",
        "\n",
        "# Describe all columns\n",
        "description = cluster_data_df.describe(include='all')\n",
        "\n",
        "# Create a pretty table to display the description\n",
        "table = PrettyTable()\n",
        "\n",
        "# Add the column names as the first row header\n",
        "table.field_names = [\"\"] + list(description.columns)\n",
        "\n",
        "# Add each row of the description to the table\n",
        "for index, row in description.iterrows():\n",
        "    table.add_row([index] + list(row))\n",
        "\n",
        "print(\"Description of All Columns:\")\n",
        "print(table)\n"
      ],
      "metadata": {
        "colab": {
          "base_uri": "https://localhost:8080/"
        },
        "id": "b73JECJFD3ZI",
        "outputId": "1449696c-ead2-44f2-cbe5-7bf7a16c16c8"
      },
      "execution_count": 13,
      "outputs": [
        {
          "output_type": "stream",
          "name": "stdout",
          "text": [
            "Description of All Columns:\n",
            "+--------+--------------------+------------------------+----------------------+--------------------+--------------------+---------------------+--------------------+---------------------+--------------------+--------------------+-----------------------------------------------------------+------------+-------------------------+----------------------------------------------+----------------------------------------------+----------------------------------------------+----------------------------+--------------------+--------------------+-------------------+--------------------+----------------------------------------------+----------------------------------------------+-------------------------------+----------------------+-----------------------+------------------------+---------------------------------+----------------------+------------------------------------+------------------------------+--------------------+--------+---------------------+\n",
            "|        |     Unnamed: 0     |          time          | instance_events_type |   collection_id    |  scheduling_class  |   collection_type   |      priority      | alloc_collection_id |   instance_index   |     machine_id     |                      resource_request                     | constraint | collections_events_type |                     user                     |               collection_name                |           collection_logical_name            | start_after_collection_ids |  vertical_scaling  |     scheduler      |     start_time    |      end_time      |                average_usage                 |                maximum_usage                 |      random_sample_usage      |   assigned_memory    |   page_cache_memory   | cycles_per_instruction | memory_accesses_per_instruction |     sample_rate      |       cpu_usage_distribution       | tail_cpu_usage_distribution  |      cluster       | event  |        failed       |\n",
            "+--------+--------------------+------------------------+----------------------+--------------------+--------------------+---------------------+--------------------+---------------------+--------------------+--------------------+-----------------------------------------------------------+------------+-------------------------+----------------------------------------------+----------------------------------------------+----------------------------------------------+----------------------------+--------------------+--------------------+-------------------+--------------------+----------------------------------------------+----------------------------------------------+-------------------------------+----------------------+-----------------------+------------------------+---------------------------------+----------------------+------------------------------------+------------------------------+--------------------+--------+---------------------+\n",
            "| count  |      405894.0      |        405894.0        |       405894.0       |      405894.0      |      405894.0      |       405894.0      |      405894.0      |       405894.0      |      405894.0      |      405894.0      |                           405120                          |   405894   |         405894.0        |                    405894                    |                    405894                    |                    405894                    |           405894           |      404935.0      |      404935.0      |      405894.0     |      405894.0      |                    405894                    |                    405894                    |             405894            |       405894.0       |        405894.0       |        281206.0        |             281206.0            |       405894.0       |               405894               |            405894            |      405894.0      | 405894 |       405894.0      |\n",
            "| unique |        nan         |          nan           |         nan          |        nan         |        nan         |         nan         |        nan         |         nan         |        nan         |        nan         |                           21900                           |     78     |           nan           |                     898                      |                     3248                     |                     2261                     |             34             |        nan         |        nan         |        nan        |        nan         |                     4716                     |                     4717                     |              2398             |         nan          |          nan          |          nan           |               nan               |         nan          |                4552                |             4519             |        nan         |   10   |         nan         |\n",
            "|  top   |        nan         |          nan           |         nan          |        nan         |        nan         |         nan         |        nan         |         nan         |        nan         |        nan         | {'cpus': 0.00566864013671875, 'memory': 0.00262451171875} |     []     |           nan           | DrrEIEWkWuW7RrZwpHLCN0k0A2J0usJeyt3wtqzZ7Kk= | AbfLM/72wWE5g5N3WQHZ1wC0R8mV5trtLcKtgLVs88I= | mOIaNf8mXWKMT1ODsgfz3yhpFBedgNmcMaskvu55SBc= |             []             |        nan         |        nan         |        nan        |        nan         | {'cpus': 0.0, 'memory': 9.5367431640625e-07} | {'cpus': 0.0, 'memory': 9.5367431640625e-07} | {'cpus': 0.0, 'memory': None} |         nan          |          nan          |          nan           |               nan               |         nan          | [0. 0. 0. 0. 0. 0. 0. 0. 0. 0. 0.] | [0. 0. 0. 0. 0. 0. 0. 0. 0.] |        nan         | FINISH |         nan         |\n",
            "|  freq  |        nan         |          nan           |         nan          |        nan         |        nan         |         nan         |        nan         |         nan         |        nan         |        nan         |                           24941                           |   297848   |           nan           |                    68812                     |                    17601                     |                    48989                     |           400705           |        nan         |        nan         |        nan        |        nan         |                    17623                     |                    17479                     |             46321             |         nan          |          nan          |          nan           |               nan               |         nan          |               33474                |            33474             |        nan         | 92867  |         nan         |\n",
            "|  mean  |      202946.5      |   69274648323652.484   |  2.9459834340985576  | 359089694109.39465 | 1.266870168073438  | 0.08778153902250341 | 147.91379276362795 |  70218009170.89935  | 5034.756259023292  |  84918845430.8413  |                            nan                            |    nan     |    2.9459834340985576   |                     nan                      |                     nan                      |                     nan                      |            nan             | 1.8587402916517466 | 0.3704224134737674 | 1238421666159.145 | 1238633540429.2747 |                     nan                      |                     nan                      |              nan              | 0.008927480272482744 | 0.0003984442384394722 |   2.185378772120449    |       0.01072202094437727       |  0.9992225950394813  |                nan                 |             nan              | 4.563612667346647  |  nan   | 0.22833054935525038 |\n",
            "|  std   | 117171.64941870539 | 2.5075114032172948e+16 |  2.0457937809998974  | 244612174884.52466 | 1.0140872190012253 |  0.2829772741983319 | 116.65663259471042 |  167347480175.05713 | 11848.537485946646 | 137790266177.10294 |                            nan                            |    nan     |    2.0457937809998974   |                     nan                      |                     nan                      |                     nan                      |            nan             | 0.7547682204559828 | 0.4829184454855544 | 796508773279.0447 |  796513377732.322  |                     nan                      |                     nan                      |              nan              | 0.024937357724714813 | 0.0005498110945352559 |   1.2561171280125236   |       0.007753384222295392      | 0.010238596160699685 |                nan                 |             nan              | 2.2080075262091845 |  nan   |  0.419757243749723  |\n",
            "|  min   |        0.0         |          0.0           |         0.0          |       6824.0       |        0.0         |         0.0         |        0.0         |         0.0         |        0.0         |        -1.0        |                            nan                            |    nan     |           0.0           |                     nan                      |                     nan                      |                     nan                      |            nan             |        1.0         |        0.0         |    300000000.0    |    600000000.0     |                     nan                      |                     nan                      |              nan              |         0.0          |          0.0          |   0.2528458535671234   |        0.0001254993258044       |  0.1099999994039535  |                nan                 |             nan              |        1.0         |  nan   |         0.0         |\n",
            "|  25%   |     101473.25      |     267474701993.5     |         2.0          |   212549590362.0   |        0.0         |         0.0         |       103.0        |         0.0         |       401.0        |   2932043758.75    |                            nan                            |    nan     |           2.0           |                     nan                      |                     nan                      |                     nan                      |            nan             |        1.0         |        0.0         |   521970000000.0  |   521971000000.0   |                     nan                      |                     nan                      |              nan              |  0.0001955032348632  |   7.62939453125e-06   |   1.067229151725769    |        0.0043294690549373       |         1.0          |                nan                 |             nan              |        3.0         |  nan   |         0.0         |\n",
            "|  50%   |      202946.5      |    1084799719970.0     |         3.0          |   310886846301.0   |        1.0         |         0.0         |       105.0        |         0.0         |       1380.0       |   20089852771.0    |                            nan                            |    nan     |           3.0           |                     nan                      |                     nan                      |                     nan                      |            nan             |        2.0         |        0.0         |  1274400000000.0  |  1274509000000.0   |                     nan                      |                     nan                      |              nan              |  0.0026931762695312  |   0.0002269744873046  |   1.918680548667908    |        0.0095059815794229       |         1.0          |                nan                 |             nan              |        5.0         |  nan   |         0.0         |\n",
            "|  75%   |     304419.75      |    1766117225327.25    |         5.0          |   491881218800.0   |        2.0         |         0.0         |       200.0        |         0.0         |       4200.0       |   131858974122.0   |                            nan                            |    nan     |           5.0           |                     nan                      |                     nan                      |                     nan                      |            nan             |        2.0         |        1.0         |  1944000000000.0  |  1944300000000.0   |                     nan                      |                     nan                      |              nan              |  0.006683349609375   |   0.0005388259887695  |   3.1568944454193115   |        0.0164353270083665       |         1.0          |                nan                 |             nan              |        6.0         |  nan   |         0.0         |\n",
            "|  max   |      405893.0      | 9.223372036854776e+18  |         10.0         |   825853185170.0   |        3.0         |         1.0         |       450.0        |    742666686475.0   |      177107.0      |   825427385411.0   |                            nan                            |    nan     |           10.0          |                     nan                      |                     nan                      |                     nan                      |            nan             |        3.0         |        1.0         |  2678400000000.0  |  2678700000000.0   |                     nan                      |                     nan                      |              nan              |     0.2861328125     |   0.008453369140625   |   105.27593231201172   |        0.0842919945716857       |         1.0          |                nan                 |             nan              |        8.0         |  nan   |         1.0         |\n",
            "+--------+--------------------+------------------------+----------------------+--------------------+--------------------+---------------------+--------------------+---------------------+--------------------+--------------------+-----------------------------------------------------------+------------+-------------------------+----------------------------------------------+----------------------------------------------+----------------------------------------------+----------------------------+--------------------+--------------------+-------------------+--------------------+----------------------------------------------+----------------------------------------------+-------------------------------+----------------------+-----------------------+------------------------+---------------------------------+----------------------+------------------------------------+------------------------------+--------------------+--------+---------------------+\n"
          ]
        }
      ]
    },
    {
      "cell_type": "code",
      "source": [
        "# Display the first few rows of the data\n",
        "# Convert the first few rows of the dataframe to a list of lists\n",
        "data_as_list = cluster_data_df.head().values.tolist()\n",
        "\n",
        "# Printing the columns\n",
        "print(\"Columns:\")\n",
        "print(cluster_data_df.columns.tolist())\n",
        "print(\"\\n\")\n",
        "\n",
        "print(\"First 5 rows of the data:\")\n",
        "for row in data_as_list:\n",
        "    print(row)\n",
        "print(\"\\n\")\n",
        "\n"
      ],
      "metadata": {
        "colab": {
          "base_uri": "https://localhost:8080/"
        },
        "id": "7AVaSsjdBLTT",
        "outputId": "6d54a454-622f-458d-b718-4c9f30457b49"
      },
      "execution_count": 14,
      "outputs": [
        {
          "output_type": "stream",
          "name": "stdout",
          "text": [
            "Columns:\n",
            "['Unnamed: 0', 'time', 'instance_events_type', 'collection_id', 'scheduling_class', 'collection_type', 'priority', 'alloc_collection_id', 'instance_index', 'machine_id', 'resource_request', 'constraint', 'collections_events_type', 'user', 'collection_name', 'collection_logical_name', 'start_after_collection_ids', 'vertical_scaling', 'scheduler', 'start_time', 'end_time', 'average_usage', 'maximum_usage', 'random_sample_usage', 'assigned_memory', 'page_cache_memory', 'cycles_per_instruction', 'memory_accesses_per_instruction', 'sample_rate', 'cpu_usage_distribution', 'tail_cpu_usage_distribution', 'cluster', 'event', 'failed']\n",
            "\n",
            "\n",
            "First 5 rows of the data:\n",
            "[0, 0, 2, 94591244395, 3, 1, 200, 0, 144, 168846390496, \"{'cpus': 0.020660400390625, 'memory': 0.014434814453125}\", '[]', 2, 'fn8Ve4Tdl/FVVvwXFGIKe4+Wo4zLjUL/557qdFVYu5M=', 'Hzsv/gF8CPQXdqpsfovDTC1TJNyphDxPu7vaTeNxA74=', 'YCuhYrnORLiUh9WGL5q5tkBevfwtucSnFr2qPZh6Kes=', '[]', 1.0, 0.0, 274800000000, 275100000000, \"{'cpus': 0.00466156005859375, 'memory': 0.00592041015625}\", \"{'cpus': 0.01190185546875, 'memory': 0.0059356689453125}\", \"{'cpus': 0.0043487548828125, 'memory': None}\", 0.014434814453125, 0.0004148483276367, nan, nan, 1.0, '[0.00314331 0.00381088 0.00401306 0.00415039 0.00432587 0.00449371\\n 0.00463104 0.00478363 0.00498962 0.00530243 0.01194763]', '[0.00535583 0.00541687 0.00548553 0.00554657 0.00563812 0.00590515\\n 0.00687408 0.00946045 0.0113678 ]', 7, 'FAIL', 1]\n",
            "[1, 2517305308183, 2, 260697606809, 2, 0, 360, 221495397286, 335, 85515092, \"{'cpus': 0.00724029541015625, 'memory': 0.0013027191162109375}\", '[]', 2, 'DrrEIEWkWuW7RrZwpHLCN0k0A2J0usJeyt3wtqzZ7Kk=', 'hDGffcrF/rhQQEG8Uns/RMUK7R15DXjFnRasoKFhefI=', 'wcRcAMuop2OqH9EW4feH919tadFec5a11ply0hcS/C8=', '[]', 2.0, 0.0, 1800713000000, 1800714000000, \"{'cpus': 0.0, 'memory': 9.5367431640625e-07}\", \"{'cpus': 0.0, 'memory': 9.5367431640625e-07}\", \"{'cpus': 0.0, 'memory': None}\", 0.0, 0.0, nan, nan, 1.0, '[1.23977661e-05 1.23977661e-05 1.23977661e-05 1.23977661e-05\\n 1.23977661e-05 1.23977661e-05 1.23977661e-05 1.23977661e-05\\n 1.23977661e-05 1.23977661e-05 1.23977661e-05]', '[1.23977661e-05 1.23977661e-05 1.23977661e-05 1.23977661e-05\\n 1.23977661e-05 1.23977661e-05 1.23977661e-05 1.23977661e-05\\n 1.23977661e-05]', 7, 'FAIL', 1]\n",
            "[2, 195684022913, 6, 276227177776, 2, 0, 103, 0, 376, 169321752432, \"{'cpus': 0.048583984375, 'memory': 0.0041656494140625}\", '[]', 6, '/ivQBmewiFcXfGJdCUsEKx47NiRE29Tjiq3gw+zR2Cg=', 'kk6+maA6fvAdJ+VTU8AcpzQPTyVrx+ySt0MXRAyO8FU=', 'zCA2dl2PDptd82Hob906gE82JHzx0SbqA4mZurqZdmY=', '[]', 2.0, 1.0, 81300000000, 81600000000, \"{'cpus': 0.024200439453125, 'memory': 0.002788543701171875}\", \"{'cpus': 0.06005859375, 'memory': 0.00284576416015625}\", \"{'cpus': 0.026458740234375, 'memory': None}\", 0.0104217529296875, 0.0002346038818359, 0.9399186372756958, 0.0013179824454709, 1.0, '[0.01344299 0.01809692 0.0201416  0.02246094 0.02374268 0.02490234\\n 0.02606201 0.0269165  0.02764893 0.02877808 0.03137207]', '[0.02902222 0.02929688 0.0295105  0.0296936  0.02987671 0.03012085\\n 0.03036499 0.03063965 0.03097534]', 7, 'SCHEDULE', 0]\n",
            "[3, 0, 2, 10507389885, 3, 0, 200, 0, 1977, 178294817221, \"{'cpus': 0.0704345703125, 'memory': 0.0416259765625}\", '[]', 2, '8qRmTJas/6XEBaA0l4Wt1+/qSLgc6p7u7JzoMSuT/M8=', 'fypwFjdqaQPSxCfeqVPCBAvFcnntmkRpQxwQ/vJsCxU=', 'uNjMQD1+DL9IgCFckx8lHOsCbyvLgKmZCmRjiyWZNhk=', '[]', 2.0, 0.0, 1075500000000, 1075800000000, \"{'cpus': 0.047607421875, 'memory': 0.034423828125}\", \"{'cpus': 0.13330078125, 'memory': 0.03466796875}\", \"{'cpus': 0.05084228515625, 'memory': None}\", 0.0416259765625, 0.0002250671386718, 1.3591017723083496, 0.0076428521424531, 1.0, '[0.03704834 0.04125977 0.04290771 0.04425049 0.04559326 0.04675293\\n 0.04785156 0.04907227 0.05108643 0.05505371 0.06970215]', '[0.05535889 0.05584717 0.05633545 0.05718994 0.059021   0.05987549\\n 0.06164551 0.06347656 0.06555176]', 8, 'FAIL', 1]\n",
            "[4, 1810627494172, 3, 25911621841, 2, 0, 0, 0, 3907, 231364893292, \"{'cpus': 0.00244903564453125, 'memory': 0.00023174285888671875}\", '[]', 3, '+cz+wEXttqDjld+YWLmrgqExjdqiHMZ2WZODThyR9jE=', 'WS2kraTQdfsFtOIepw9SIo7ETi2ag8uwy7gt2MrpIe0=', 'VJ0ExwthLLpbqbyOA77EoNypzEiPYg3mECxUve0GCnY=', '[]', 3.0, 0.0, 1565315000000, 1565317000000, \"{'cpus': 0.000270843505859375, 'memory': 7.62939453125e-05}\", \"{'cpus': 0.00041484832763671875, 'memory': 7.62939453125e-05}\", \"{'cpus': 0.0003414154052734375, 'memory': None}\", 0.0002717971801757, 9.5367431640625e-06, nan, nan, 1.0, '[0.         0.         0.         0.         0.         0.0002079\\n 0.00041485 0.00041485 0.00041485 0.00041485 0.00041485]', '[0.00041485 0.00041485 0.00041485 0.00041485 0.00041485 0.00041485\\n 0.00041485 0.00041485 0.00041485]', 2, 'FINISH', 0]\n",
            "\n",
            "\n"
          ]
        }
      ]
    },
    {
      "cell_type": "code",
      "source": [
        "# Get the data types of each column\n",
        "table = PrettyTable()\n",
        "table.field_names = [\"Column\", \"Data Type\"]\n",
        "for column, dtype in cluster_data_df.dtypes.items():\n",
        "    table.add_row([column, str(dtype)])\n",
        "print(table)\n",
        "print(\"\\n\")"
      ],
      "metadata": {
        "colab": {
          "base_uri": "https://localhost:8080/"
        },
        "id": "v8OmbVCTBKYc",
        "outputId": "7baaa2e4-9314-49cc-8b81-30837cc40f72"
      },
      "execution_count": 15,
      "outputs": [
        {
          "output_type": "stream",
          "name": "stdout",
          "text": [
            "+---------------------------------+-----------+\n",
            "|              Column             | Data Type |\n",
            "+---------------------------------+-----------+\n",
            "|            Unnamed: 0           |   int64   |\n",
            "|               time              |   int64   |\n",
            "|       instance_events_type      |   int64   |\n",
            "|          collection_id          |   int64   |\n",
            "|         scheduling_class        |   int64   |\n",
            "|         collection_type         |   int64   |\n",
            "|             priority            |   int64   |\n",
            "|       alloc_collection_id       |   int64   |\n",
            "|          instance_index         |   int64   |\n",
            "|            machine_id           |   int64   |\n",
            "|         resource_request        |   object  |\n",
            "|            constraint           |   object  |\n",
            "|     collections_events_type     |   int64   |\n",
            "|               user              |   object  |\n",
            "|         collection_name         |   object  |\n",
            "|     collection_logical_name     |   object  |\n",
            "|    start_after_collection_ids   |   object  |\n",
            "|         vertical_scaling        |  float64  |\n",
            "|            scheduler            |  float64  |\n",
            "|            start_time           |   int64   |\n",
            "|             end_time            |   int64   |\n",
            "|          average_usage          |   object  |\n",
            "|          maximum_usage          |   object  |\n",
            "|       random_sample_usage       |   object  |\n",
            "|         assigned_memory         |  float64  |\n",
            "|        page_cache_memory        |  float64  |\n",
            "|      cycles_per_instruction     |  float64  |\n",
            "| memory_accesses_per_instruction |  float64  |\n",
            "|           sample_rate           |  float64  |\n",
            "|      cpu_usage_distribution     |   object  |\n",
            "|   tail_cpu_usage_distribution   |   object  |\n",
            "|             cluster             |   int64   |\n",
            "|              event              |   object  |\n",
            "|              failed             |   int64   |\n",
            "+---------------------------------+-----------+\n",
            "\n",
            "\n"
          ]
        }
      ]
    },
    {
      "cell_type": "code",
      "source": [
        "# Descriptive statistics\n",
        "desc_stats = cluster_data_df.describe()\n",
        "\n",
        "# Create a pretty table\n",
        "pt = PrettyTable()\n",
        "\n",
        "# Set the column names (Field names in PrettyTable)\n",
        "pt.field_names = [\"\"] + desc_stats.columns.tolist()\n",
        "\n",
        "# Add rows to the table\n",
        "for index, row in desc_stats.iterrows():\n",
        "    pt.add_row([index] + row.tolist())\n",
        "\n",
        "print(\"Descriptive Statistics for Numerical Columns:\")\n",
        "print(pt)\n",
        "print(\"\\n\")\n"
      ],
      "metadata": {
        "colab": {
          "base_uri": "https://localhost:8080/"
        },
        "id": "_uDWGqVVBIQv",
        "outputId": "a1b47886-c289-408f-d65c-62869f6495b8"
      },
      "execution_count": 16,
      "outputs": [
        {
          "output_type": "stream",
          "name": "stdout",
          "text": [
            "Descriptive Statistics for Numerical Columns:\n",
            "+-------+--------------------+------------------------+----------------------+--------------------+--------------------+---------------------+--------------------+---------------------+--------------------+--------------------+-------------------------+--------------------+--------------------+-------------------+--------------------+----------------------+-----------------------+------------------------+---------------------------------+----------------------+--------------------+---------------------+\n",
            "|       |     Unnamed: 0     |          time          | instance_events_type |   collection_id    |  scheduling_class  |   collection_type   |      priority      | alloc_collection_id |   instance_index   |     machine_id     | collections_events_type |  vertical_scaling  |     scheduler      |     start_time    |      end_time      |   assigned_memory    |   page_cache_memory   | cycles_per_instruction | memory_accesses_per_instruction |     sample_rate      |      cluster       |        failed       |\n",
            "+-------+--------------------+------------------------+----------------------+--------------------+--------------------+---------------------+--------------------+---------------------+--------------------+--------------------+-------------------------+--------------------+--------------------+-------------------+--------------------+----------------------+-----------------------+------------------------+---------------------------------+----------------------+--------------------+---------------------+\n",
            "| count |      405894.0      |        405894.0        |       405894.0       |      405894.0      |      405894.0      |       405894.0      |      405894.0      |       405894.0      |      405894.0      |      405894.0      |         405894.0        |      404935.0      |      404935.0      |      405894.0     |      405894.0      |       405894.0       |        405894.0       |        281206.0        |             281206.0            |       405894.0       |      405894.0      |       405894.0      |\n",
            "|  mean |      202946.5      |   69274648323652.484   |  2.9459834340985576  | 359089694109.39465 | 1.266870168073438  | 0.08778153902250341 | 147.91379276362795 |  70218009170.89935  | 5034.756259023292  |  84918845430.8413  |    2.9459834340985576   | 1.8587402916517466 | 0.3704224134737674 | 1238421666159.145 | 1238633540429.2747 | 0.008927480272482744 | 0.0003984442384394722 |   2.185378772120449    |       0.01072202094437727       |  0.9992225950394813  | 4.563612667346647  | 0.22833054935525038 |\n",
            "|  std  | 117171.64941870539 | 2.5075114032172948e+16 |  2.0457937809998974  | 244612174884.52466 | 1.0140872190012253 |  0.2829772741983319 | 116.65663259471042 |  167347480175.05713 | 11848.537485946646 | 137790266177.10294 |    2.0457937809998974   | 0.7547682204559828 | 0.4829184454855544 | 796508773279.0447 |  796513377732.322  | 0.024937357724714813 | 0.0005498110945352559 |   1.2561171280125236   |       0.007753384222295392      | 0.010238596160699685 | 2.2080075262091845 |  0.419757243749723  |\n",
            "|  min  |        0.0         |          0.0           |         0.0          |       6824.0       |        0.0         |         0.0         |        0.0         |         0.0         |        0.0         |        -1.0        |           0.0           |        1.0         |        0.0         |    300000000.0    |    600000000.0     |         0.0          |          0.0          |   0.2528458535671234   |        0.0001254993258044       |  0.1099999994039535  |        1.0         |         0.0         |\n",
            "|  25%  |     101473.25      |     267474701993.5     |         2.0          |   212549590362.0   |        0.0         |         0.0         |       103.0        |         0.0         |       401.0        |   2932043758.75    |           2.0           |        1.0         |        0.0         |   521970000000.0  |   521971000000.0   |  0.0001955032348632  |   7.62939453125e-06   |   1.067229151725769    |        0.0043294690549373       |         1.0          |        3.0         |         0.0         |\n",
            "|  50%  |      202946.5      |    1084799719970.0     |         3.0          |   310886846301.0   |        1.0         |         0.0         |       105.0        |         0.0         |       1380.0       |   20089852771.0    |           3.0           |        2.0         |        0.0         |  1274400000000.0  |  1274509000000.0   |  0.0026931762695312  |   0.0002269744873046  |   1.918680548667908    |        0.0095059815794229       |         1.0          |        5.0         |         0.0         |\n",
            "|  75%  |     304419.75      |    1766117225327.25    |         5.0          |   491881218800.0   |        2.0         |         0.0         |       200.0        |         0.0         |       4200.0       |   131858974122.0   |           5.0           |        2.0         |        1.0         |  1944000000000.0  |  1944300000000.0   |  0.006683349609375   |   0.0005388259887695  |   3.1568944454193115   |        0.0164353270083665       |         1.0          |        6.0         |         0.0         |\n",
            "|  max  |      405893.0      | 9.223372036854776e+18  |         10.0         |   825853185170.0   |        3.0         |         1.0         |       450.0        |    742666686475.0   |      177107.0      |   825427385411.0   |           10.0          |        3.0         |        1.0         |  2678400000000.0  |  2678700000000.0   |     0.2861328125     |   0.008453369140625   |   105.27593231201172   |        0.0842919945716857       |         1.0          |        8.0         |         1.0         |\n",
            "+-------+--------------------+------------------------+----------------------+--------------------+--------------------+---------------------+--------------------+---------------------+--------------------+--------------------+-------------------------+--------------------+--------------------+-------------------+--------------------+----------------------+-----------------------+------------------------+---------------------------------+----------------------+--------------------+---------------------+\n",
            "\n",
            "\n"
          ]
        }
      ]
    },
    {
      "cell_type": "code",
      "source": [
        "# Count of unique values for each column\n",
        "table = PrettyTable()\n",
        "table.field_names = [\"Column\", \"Unique Values Count\"]\n",
        "for column in cluster_data_df.columns:\n",
        "    table.add_row([column, cluster_data_df[column].nunique()])\n",
        "print(table)\n",
        "print(\"\\n\")"
      ],
      "metadata": {
        "colab": {
          "base_uri": "https://localhost:8080/"
        },
        "id": "YvWQAE4tBHU2",
        "outputId": "8d8a0ab2-3b6d-4bb8-b675-4cbc0c84e60d"
      },
      "execution_count": 17,
      "outputs": [
        {
          "output_type": "stream",
          "name": "stdout",
          "text": [
            "+---------------------------------+---------------------+\n",
            "|              Column             | Unique Values Count |\n",
            "+---------------------------------+---------------------+\n",
            "|            Unnamed: 0           |        405894       |\n",
            "|               time              |        334354       |\n",
            "|       instance_events_type      |          10         |\n",
            "|          collection_id          |         4057        |\n",
            "|         scheduling_class        |          4          |\n",
            "|         collection_type         |          2          |\n",
            "|             priority            |          22         |\n",
            "|       alloc_collection_id       |         448         |\n",
            "|          instance_index         |        30298        |\n",
            "|            machine_id           |        96174        |\n",
            "|         resource_request        |        21900        |\n",
            "|            constraint           |          78         |\n",
            "|     collections_events_type     |          10         |\n",
            "|               user              |         898         |\n",
            "|         collection_name         |         3248        |\n",
            "|     collection_logical_name     |         2261        |\n",
            "|    start_after_collection_ids   |          34         |\n",
            "|         vertical_scaling        |          3          |\n",
            "|            scheduler            |          2          |\n",
            "|            start_time           |         4182        |\n",
            "|             end_time            |         4135        |\n",
            "|          average_usage          |         4716        |\n",
            "|          maximum_usage          |         4717        |\n",
            "|       random_sample_usage       |         2398        |\n",
            "|         assigned_memory         |         1534        |\n",
            "|        page_cache_memory        |         1207        |\n",
            "|      cycles_per_instruction     |         3417        |\n",
            "| memory_accesses_per_instruction |         3418        |\n",
            "|           sample_rate           |          94         |\n",
            "|      cpu_usage_distribution     |         4552        |\n",
            "|   tail_cpu_usage_distribution   |         4519        |\n",
            "|             cluster             |          8          |\n",
            "|              event              |          10         |\n",
            "|              failed             |          2          |\n",
            "+---------------------------------+---------------------+\n",
            "\n",
            "\n"
          ]
        }
      ]
    },
    {
      "cell_type": "code",
      "source": [
        "# Count of missing values for each column\n",
        "table = PrettyTable()\n",
        "table.field_names = [\"Column\", \"Missing Values Count\"]\n",
        "for column in cluster_data_df.columns:\n",
        "    table.add_row([column, cluster_data_df[column].isnull().sum()])\n",
        "print(table)\n",
        "print(\"\\n\")"
      ],
      "metadata": {
        "colab": {
          "base_uri": "https://localhost:8080/"
        },
        "id": "GZ0vUvFCBGRt",
        "outputId": "7e110e23-680e-41bf-9f31-b8bed242514b"
      },
      "execution_count": 18,
      "outputs": [
        {
          "output_type": "stream",
          "name": "stdout",
          "text": [
            "+---------------------------------+----------------------+\n",
            "|              Column             | Missing Values Count |\n",
            "+---------------------------------+----------------------+\n",
            "|            Unnamed: 0           |          0           |\n",
            "|               time              |          0           |\n",
            "|       instance_events_type      |          0           |\n",
            "|          collection_id          |          0           |\n",
            "|         scheduling_class        |          0           |\n",
            "|         collection_type         |          0           |\n",
            "|             priority            |          0           |\n",
            "|       alloc_collection_id       |          0           |\n",
            "|          instance_index         |          0           |\n",
            "|            machine_id           |          0           |\n",
            "|         resource_request        |         774          |\n",
            "|            constraint           |          0           |\n",
            "|     collections_events_type     |          0           |\n",
            "|               user              |          0           |\n",
            "|         collection_name         |          0           |\n",
            "|     collection_logical_name     |          0           |\n",
            "|    start_after_collection_ids   |          0           |\n",
            "|         vertical_scaling        |         959          |\n",
            "|            scheduler            |         959          |\n",
            "|            start_time           |          0           |\n",
            "|             end_time            |          0           |\n",
            "|          average_usage          |          0           |\n",
            "|          maximum_usage          |          0           |\n",
            "|       random_sample_usage       |          0           |\n",
            "|         assigned_memory         |          0           |\n",
            "|        page_cache_memory        |          0           |\n",
            "|      cycles_per_instruction     |        124688        |\n",
            "| memory_accesses_per_instruction |        124688        |\n",
            "|           sample_rate           |          0           |\n",
            "|      cpu_usage_distribution     |          0           |\n",
            "|   tail_cpu_usage_distribution   |          0           |\n",
            "|             cluster             |          0           |\n",
            "|              event              |          0           |\n",
            "|              failed             |          0           |\n",
            "+---------------------------------+----------------------+\n",
            "\n",
            "\n"
          ]
        }
      ]
    },
    {
      "cell_type": "code",
      "source": [
        "from prettytable import PrettyTable\n",
        "\n",
        "# Extract numerical columns\n",
        "numerical_columns = cluster_data_df.select_dtypes(include=['float64', 'int64']).columns\n",
        "\n",
        "# Calculate the correlation matrix\n",
        "correlation_matrix = cluster_data_df[numerical_columns].corr()\n",
        "\n",
        "# Create a pretty table to display the correlation matrix\n",
        "table = PrettyTable()\n",
        "\n",
        "# Add the column names as the first row header\n",
        "table.field_names = [\"\"] + list(correlation_matrix.columns)\n",
        "\n",
        "# Add each row of the matrix to the table\n",
        "for index, row in correlation_matrix.iterrows():\n",
        "    table.add_row([index] + list(row))\n",
        "\n",
        "print(\"Correlation Matrix for Numerical Columns:\")\n",
        "print(table)\n",
        "print(\"\\n\")\n"
      ],
      "metadata": {
        "colab": {
          "base_uri": "https://localhost:8080/"
        },
        "id": "pjDA__O4BD_7",
        "outputId": "197f81bc-9c80-49fb-ac87-e7224e2ce64d"
      },
      "execution_count": 19,
      "outputs": [
        {
          "output_type": "stream",
          "name": "stdout",
          "text": [
            "Correlation Matrix for Numerical Columns:\n",
            "+---------------------------------+-------------------------+------------------------+-----------------------+------------------------+-----------------------+-----------------------+-----------------------+------------------------+------------------------+------------------------+-------------------------+------------------------+------------------------+------------------------+-------------------------+-----------------------+-----------------------+------------------------+---------------------------------+------------------------+-----------------------+------------------------+\n",
            "|                                 |        Unnamed: 0       |          time          |  instance_events_type |     collection_id      |    scheduling_class   |    collection_type    |        priority       |  alloc_collection_id   |     instance_index     |       machine_id       | collections_events_type |    vertical_scaling    |       scheduler        |       start_time       |         end_time        |    assigned_memory    |   page_cache_memory   | cycles_per_instruction | memory_accesses_per_instruction |      sample_rate       |        cluster        |         failed         |\n",
            "+---------------------------------+-------------------------+------------------------+-----------------------+------------------------+-----------------------+-----------------------+-----------------------+------------------------+------------------------+------------------------+-------------------------+------------------------+------------------------+------------------------+-------------------------+-----------------------+-----------------------+------------------------+---------------------------------+------------------------+-----------------------+------------------------+\n",
            "|            Unnamed: 0           |           1.0           | -0.0005328965549005475 | 0.0003473581316335299 | 0.0016621877248190968  | 0.0008377597058871565 | 0.0011824635649299068 |  0.002410039129202983 | 0.0014521126502416112  | -0.0024357594145880197 |  0.002381318402132128  |  0.0003473581316335299  | 0.00022216103352998872 | -0.0006102616769145391 | -0.0003828200281920225 | -0.00038211540788619095 | 0.0005824253012518023 | 0.0015925490225071177 |  0.000657959604362819  |      0.0007638686889585753      |  0.000854272945793808  | 0.0017350438918146826 | -0.001789326582062349  |\n",
            "|               time              |  -0.0005328965549005475 |          1.0           |  7.55534733031418e-05 | -0.0032058717870484346 |  0.004637451451525129 |  0.00555920088071476  | 0.0012074329480831543 | -0.0011429708146361284 | -0.0009677089405338624 | -0.0012365592960463174 |   7.55534733031418e-05  | -0.0030943671385048016 | -0.0020840596989723653 |  0.003400170649594947  |  0.0034004511640346844  |   0.0043247775481242  | -0.001141305168519104 |  0.000871157643529688  |       0.00515829463239287       | 0.00020577196629927624 | 0.0025892323557463333 | -0.0014838530142894325 |\n",
            "|       instance_events_type      |  0.0003473581316335299  |  7.55534733031418e-05  |          1.0          |  0.23136788047403567   |  -0.16617822858332962 |   0.2598197427684673  |  0.032345023504166626 |  0.001552025337855452  |  -0.16609601305332275  | 0.0033655358550541887  |           1.0           |  0.37400725834410914   |   0.2733320428050031   |  -0.12436274645274119  |   -0.12436894768871076  |  -0.0653968423985972  |  0.11425927788170567  |  0.010496319495197042  |        0.0649305944373897       | -0.029012396726586284  |  -0.09542819304635405 |   -0.25152929245125    |\n",
            "|          collection_id          |  0.0016621877248190968  | -0.0032058717870484346 |  0.23136788047403567  |          1.0           |   -0.355672644129954  | -0.051539845152573156 |  0.025535176923634027 |   0.2950351909591296   |  0.044438314047976754  |  0.11868594391428154   |   0.23136788047403564   |  0.02353694013467321   |  0.31564759385318114   | -0.023878395319091847  |   -0.02390308819942578  | -0.053220184764025485 |  0.03189041498306952  |   0.1700497975898733   |       0.021791605023286666      | -0.011282318612474057  |  -0.28301538446974445 |  -0.0873406525838802   |\n",
            "|         scheduling_class        |  0.0008377597058871565  |  0.004637451451525129  |  -0.16617822858332962 |   -0.355672644129954   |          1.0          |  0.23202455943254655  |   0.5066764089958147  |   0.3153187413086697   |  -0.28928335832843066  |  -0.03344625235930486  |   -0.1661782285833297   |  0.012215475367435124  |  -0.3912891849132134   |  -0.15081477296690982  |   -0.15078241283988914  |  0.013445164191976007 |  0.16248445618782908  |  -0.18516198663610603  |       -0.11792017768272516      |  0.008920075456552603  |  0.09232858892121681  |  0.15167561873377555   |\n",
            "|         collection_type         |  0.0011824635649299068  |  0.00555920088071476   |   0.2598197427684673  | -0.051539845152573156  |  0.23202455943254655  |          1.0          |  0.05690710251491828  |  -0.13016134769237883  |  -0.11100833963429588  |  -0.02741766040272663  |    0.2598197427684673   | -0.056583065257179856  | -0.009028737457784635  |  -0.07819317534845699  |   -0.07816505925603094  |  0.17385644491620977  |  0.06914211084878921  |          nan           |               nan               | -0.007071216724979005  | -0.008810903557102914 |  -0.07917869455450696  |\n",
            "|             priority            |   0.002410039129202983  | 0.0012074329480831543  |  0.032345023504166626 |  0.025535176923634027  |   0.5066764089958147  |  0.05690710251491828  |          1.0          |   0.7061529865730792   |  -0.3188639771758597   | -0.013738460863148423  |   0.032345023504166626  |  0.010509914386411327  |  -0.2866741610208398   |  -0.14423673123903538  |   -0.1442146883185629   |  -0.06355153521554043 |   0.4268170196237154  |   -0.188033171094728   |       -0.12973445826089938      |  0.00279968668501935   |  0.10318517674741258  |  0.09421547251307023   |\n",
            "|       alloc_collection_id       |  0.0014521126502416112  | -0.0011429708146361284 |  0.001552025337855452 |   0.2950351909591296   |   0.3153187413086697  |  -0.13016134769237883 |   0.7061529865730792  |          1.0           |  -0.13616697502498593  |  0.012504152159141172  |   0.001552025337855452  |  0.02745792139641085   |  -0.32229835369359666  |  -0.13138474052760643  |   -0.1313866442338377   |  -0.1502134301410916  |   0.3282724330884944  |  -0.18161879288906624  |       -0.19308233403506966      |  0.01684306186497489   | -0.012921597289758963 |  0.12484684326379633   |\n",
            "|          instance_index         |  -0.0024357594145880197 | -0.0009677089405338624 |  -0.16609601305332275 |  0.044438314047976754  |  -0.28928335832843066 |  -0.11100833963429588 |  -0.3188639771758597  |  -0.13616697502498593  |          1.0           | -0.022195060335835293  |   -0.16609601305332275  |  -0.2609689558285931   |  -0.10898198444933618  |  0.18952845319570197   |   0.18952221530079535   |  -0.05606164252260359 |  -0.18106309880835647 |  0.07673404865209071   |       -0.04760631050299125      |  0.019106263645549078  |  0.09807446742052221  |  0.005184182277034711  |\n",
            "|            machine_id           |   0.002381318402132128  | -0.0012365592960463174 | 0.0033655358550541887 |  0.11868594391428154   |  -0.03344625235930486 |  -0.02741766040272663 | -0.013738460863148423 |  0.012504152159141172  | -0.022195060335835293  |          1.0           |  0.0033655358550541874  |  0.01864160087988436   |  0.05086922652543775   |  0.030976990855642934  |   0.030970663133257508  |  0.016497012471218268 | -0.014125922677978176 |  0.008103098130608725  |       0.014843104319930469      | -0.015426835236603504  |  -0.05588910320395836 | -0.008042008595455674  |\n",
            "|     collections_events_type     |  0.0003473581316335299  |  7.55534733031418e-05  |          1.0          |  0.23136788047403564   |  -0.1661782285833297  |   0.2598197427684673  |  0.032345023504166626 |  0.001552025337855452  |  -0.16609601305332275  | 0.0033655358550541874  |           1.0           |  0.37400725834410914   |   0.2733320428050031   |  -0.12436274645274119  |   -0.12436894768871076  |  -0.0653968423985972  |  0.11425927788170567  |  0.010496319495197042  |        0.0649305944373897       | -0.029012396726586284  |  -0.09542819304635405 |   -0.25152929245125    |\n",
            "|         vertical_scaling        |  0.00022216103352998872 | -0.0030943671385048016 |  0.37400725834410914  |  0.02353694013467321   |  0.012215475367435124 | -0.056583065257179856 |  0.010509914386411327 |  0.02745792139641085   |  -0.2609689558285931   |  0.01864160087988436   |   0.37400725834410914   |          1.0           |  0.29451900586421126   |  -0.11200215674987546  |   -0.11202263785444125  | 0.0012195539630605208 |  0.05031560503732667  |   0.039144698647216    |       0.002743144775008731      | 0.0013440434591459013  |  -0.26524343261281735 |  -0.22472429001253946  |\n",
            "|            scheduler            |  -0.0006102616769145391 | -0.0020840596989723653 |   0.2733320428050031  |  0.31564759385318114   |  -0.3912891849132134  | -0.009028737457784635 |  -0.2866741610208398  |  -0.32229835369359666  |  -0.10898198444933618  |  0.05086922652543775   |    0.2733320428050031   |  0.29451900586421126   |          1.0           |   0.062965672146957    |   0.06296729924992979   |  0.21398148180082807  |  0.001497382421857133 |  0.24264546231146752   |        0.2677999202322503       | -0.026917509362763454  |  -0.2139381765630141  |  -0.14365942665178338  |\n",
            "|            start_time           |  -0.0003828200281920225 |  0.003400170649594947  |  -0.12436274645274119 | -0.023878395319091847  |  -0.15081477296690982 |  -0.07819317534845699 |  -0.14423673123903538 |  -0.13138474052760643  |  0.18952845319570197   |  0.030976990855642934  |   -0.12436274645274119  |  -0.11200215674987546  |   0.062965672146957    |          1.0           |    0.9999999868555067   |  0.053769970150424146 |  -0.11905361736863511 |  0.17403077506874873   |       0.10784598214012374       | -0.010618690310274587  |  0.06977427393479099  |  0.05919307932774309   |\n",
            "|             end_time            | -0.00038211540788619095 | 0.0034004511640346844  |  -0.12436894768871076 |  -0.02390308819942578  |  -0.15078241283988914 |  -0.07816505925603094 |  -0.1442146883185629  |  -0.1313866442338377   |  0.18952221530079535   |  0.030970663133257508  |   -0.12436894768871076  |  -0.11202263785444125  |  0.06296729924992979   |   0.9999999868555067   |           1.0           |  0.05378239082588365  |  -0.1190237026083616  |  0.17404653458120622   |       0.10786596811993217       | -0.010617600960664718  |  0.06979757650942257  |  0.05921573885764111   |\n",
            "|         assigned_memory         |  0.0005824253012518023  |   0.0043247775481242   |  -0.0653968423985972  | -0.053220184764025485  |  0.013445164191976007 |  0.17385644491620977  |  -0.06355153521554043 |  -0.1502134301410916   |  -0.05606164252260359  |  0.016497012471218268  |   -0.0653968423985972   | 0.0012195539630605208  |  0.21398148180082807   |  0.053769970150424146  |   0.05378239082588365   |          1.0          |  0.21590258763518033  |   0.1999220837501932   |       0.14369315037267968       |  0.009019554243026006  |  0.12780039702571389  |  -0.06401317948367942  |\n",
            "|        page_cache_memory        |  0.0015925490225071177  | -0.001141305168519104  |  0.11425927788170567  |  0.03189041498306952   |  0.16248445618782908  |  0.06914211084878921  |   0.4268170196237154  |   0.3282724330884944   |  -0.18106309880835647  | -0.014125922677978176  |   0.11425927788170567   |  0.05031560503732667   |  0.001497382421857133  |  -0.11905361736863511  |   -0.1190237026083616   |  0.21590258763518033  |          1.0          |  -0.04467792113776379  |       -0.05548316929752454      | -0.005691687781653212  |  0.11636271585061533  |  -0.04066889659365428  |\n",
            "|      cycles_per_instruction     |   0.000657959604362819  |  0.000871157643529688  |  0.010496319495197042 |   0.1700497975898733   |  -0.18516198663610603 |          nan          |   -0.188033171094728  |  -0.18161879288906624  |  0.07673404865209071   |  0.008103098130608725  |   0.010496319495197042  |   0.039144698647216    |  0.24264546231146752   |  0.17403077506874873   |   0.17404653458120622   |   0.1999220837501932  |  -0.04467792113776379 |          1.0           |        0.7286273899128914       | -0.023866510042001337  |  -0.1390005608132781  |  0.05044840929955829   |\n",
            "| memory_accesses_per_instruction |  0.0007638686889585753  |  0.00515829463239287   |   0.0649305944373897  |  0.021791605023286666  |  -0.11792017768272516 |          nan          |  -0.12973445826089938 |  -0.19308233403506966  |  -0.04760631050299125  |  0.014843104319930469  |    0.0649305944373897   |  0.002743144775008731  |   0.2677999202322503   |  0.10784598214012374   |   0.10786596811993217   |  0.14369315037267968  |  -0.05548316929752454 |   0.7286273899128914   |               1.0               | -0.024716506608155667  |  0.015562040501831508 |  0.07001027108366614   |\n",
            "|           sample_rate           |   0.000854272945793808  | 0.00020577196629927624 | -0.029012396726586284 | -0.011282318612474057  |  0.008920075456552603 | -0.007071216724979005 |  0.00279968668501935  |  0.01684306186497489   |  0.019106263645549078  | -0.015426835236603504  |  -0.029012396726586284  | 0.0013440434591459013  | -0.026917509362763454  | -0.010618690310274587  |  -0.010617600960664718  |  0.009019554243026006 | -0.005691687781653212 | -0.023866510042001337  |      -0.024716506608155667      |          1.0           |  0.03539428357755647  | -0.008491658565954135  |\n",
            "|             cluster             |  0.0017350438918146826  | 0.0025892323557463333  |  -0.09542819304635405 |  -0.28301538446974445  |  0.09232858892121681  | -0.008810903557102914 |  0.10318517674741258  | -0.012921597289758963  |  0.09807446742052221   |  -0.05588910320395836  |   -0.09542819304635405  |  -0.26524343261281735  |  -0.2139381765630141   |  0.06977427393479099   |   0.06979757650942257   |  0.12780039702571389  |  0.11636271585061533  |  -0.1390005608132781   |       0.015562040501831508      |  0.03539428357755647   |          1.0          |   0.0208736272147189   |\n",
            "|              failed             |  -0.001789326582062349  | -0.0014838530142894325 |   -0.25152929245125   |  -0.0873406525838802   |  0.15167561873377555  |  -0.07917869455450696 |  0.09421547251307023  |  0.12484684326379633   |  0.005184182277034711  | -0.008042008595455674  |    -0.25152929245125    |  -0.22472429001253946  |  -0.14365942665178338  |  0.05919307932774309   |   0.05921573885764111   |  -0.06401317948367942 |  -0.04066889659365428 |  0.05044840929955829   |       0.07001027108366614       | -0.008491658565954135  |   0.0208736272147189  |          1.0           |\n",
            "+---------------------------------+-------------------------+------------------------+-----------------------+------------------------+-----------------------+-----------------------+-----------------------+------------------------+------------------------+------------------------+-------------------------+------------------------+------------------------+------------------------+-------------------------+-----------------------+-----------------------+------------------------+---------------------------------+------------------------+-----------------------+------------------------+\n",
            "\n",
            "\n"
          ]
        }
      ]
    },
    {
      "cell_type": "code",
      "source": [
        "threshold = 0.7\n",
        "highly_correlated_pairs = []\n",
        "\n",
        "# Loop over the correlation matrix and identify pairs which surpass the threshold\n",
        "for column in correlation_matrix.columns:\n",
        "    for index in correlation_matrix.index:\n",
        "        if column != index:  # Skip self-correlations\n",
        "            if abs(correlation_matrix.loc[index, column]) > threshold:\n",
        "                pair = tuple(sorted([index, column]))  # Sort the pair for uniqueness\n",
        "                if pair not in highly_correlated_pairs:\n",
        "                    highly_correlated_pairs.append(pair)\n",
        "\n",
        "# Print the highly correlated pairs\n",
        "table_corr = PrettyTable()\n",
        "table_corr.field_names = [\"Feature 1\", \"Feature 2\", \"Correlation Value\"]\n",
        "\n",
        "for pair in highly_correlated_pairs:\n",
        "    corr_val = correlation_matrix.loc[pair[0], pair[1]]\n",
        "    table_corr.add_row([pair[0], pair[1], round(corr_val, 2)])\n",
        "\n",
        "print(\"Highly Correlated Features:\")\n",
        "print(table_corr)\n",
        "print(\"\\n\")\n"
      ],
      "metadata": {
        "colab": {
          "base_uri": "https://localhost:8080/"
        },
        "id": "RBvnHB7DC32E",
        "outputId": "53c871aa-e133-47f1-deed-346e446207ed"
      },
      "execution_count": 20,
      "outputs": [
        {
          "output_type": "stream",
          "name": "stdout",
          "text": [
            "Highly Correlated Features:\n",
            "+-------------------------+---------------------------------+-------------------+\n",
            "|        Feature 1        |            Feature 2            | Correlation Value |\n",
            "+-------------------------+---------------------------------+-------------------+\n",
            "| collections_events_type |       instance_events_type      |        1.0        |\n",
            "|   alloc_collection_id   |             priority            |        0.71       |\n",
            "|         end_time        |            start_time           |        1.0        |\n",
            "|  cycles_per_instruction | memory_accesses_per_instruction |        0.73       |\n",
            "+-------------------------+---------------------------------+-------------------+\n",
            "\n",
            "\n"
          ]
        }
      ]
    },
    {
      "cell_type": "markdown",
      "source": [
        "Here are some considerations based on the columns in your dataset:\n",
        "\n",
        "Target Variable(s):\n",
        "\n",
        "average_usage and maximum_usage might be potential target variables as they reflect the load or usage of resources.\n",
        "\n",
        "Features:\n",
        "\n",
        "Time-related features: time, start_time, and end_time.\n",
        "\n",
        "Resource request and constraints: resource_request, constraint.\n",
        "\n",
        "System configurations: scheduling_class, priority, alloc_collection_id, instance_index, machine_id.\n",
        "\n",
        "Other performance metrics: assigned_memory, page_cache_memory, cycles_per_instruction, memory_accesses_per_instruction."
      ],
      "metadata": {
        "id": "kUIE44AUuiJx"
      }
    },
    {
      "cell_type": "code",
      "source": [],
      "metadata": {
        "id": "LNIl04_xEcpJ"
      },
      "execution_count": 20,
      "outputs": []
    },
    {
      "cell_type": "markdown",
      "source": [
        "# Data Preperation and Pre-Processing"
      ],
      "metadata": {
        "id": "j7ttX7APEc8X"
      }
    },
    {
      "cell_type": "code",
      "source": [
        "# Print the table\n",
        "print(classification_table)"
      ],
      "metadata": {
        "colab": {
          "base_uri": "https://localhost:8080/"
        },
        "id": "zz5b3hYxGu0b",
        "outputId": "67a4b044-01bb-440b-dae7-78f07632d036"
      },
      "execution_count": 21,
      "outputs": [
        {
          "output_type": "stream",
          "name": "stdout",
          "text": [
            "+---------------------------------+-----------+----------------+\n",
            "|           Column Name           | Data Type | Classification |\n",
            "+---------------------------------+-----------+----------------+\n",
            "|            Unnamed: 0           |   int64   |   numerical    |\n",
            "|               time              |   int64   |   numerical    |\n",
            "|       instance_events_type      |   int64   |   numerical    |\n",
            "|          collection_id          |   int64   |   numerical    |\n",
            "|         scheduling_class        |   int64   |   numerical    |\n",
            "|         collection_type         |   int64   |   numerical    |\n",
            "|             priority            |   int64   |   numerical    |\n",
            "|       alloc_collection_id       |   int64   |   numerical    |\n",
            "|          instance_index         |   int64   |   numerical    |\n",
            "|            machine_id           |   int64   |   numerical    |\n",
            "|         resource_request        |   object  |  categorical   |\n",
            "|            constraint           |   object  |  categorical   |\n",
            "|     collections_events_type     |   int64   |   numerical    |\n",
            "|               user              |   object  |  categorical   |\n",
            "|         collection_name         |   object  |  categorical   |\n",
            "|     collection_logical_name     |   object  |  categorical   |\n",
            "|    start_after_collection_ids   |   object  |  categorical   |\n",
            "|         vertical_scaling        |  float64  |   numerical    |\n",
            "|            scheduler            |  float64  |   numerical    |\n",
            "|            start_time           |   int64   |   numerical    |\n",
            "|             end_time            |   int64   |   numerical    |\n",
            "|          average_usage          |   object  |  categorical   |\n",
            "|          maximum_usage          |   object  |  categorical   |\n",
            "|       random_sample_usage       |   object  |  categorical   |\n",
            "|         assigned_memory         |  float64  |   numerical    |\n",
            "|        page_cache_memory        |  float64  |   numerical    |\n",
            "|      cycles_per_instruction     |  float64  |   numerical    |\n",
            "| memory_accesses_per_instruction |  float64  |   numerical    |\n",
            "|           sample_rate           |  float64  |   numerical    |\n",
            "|      cpu_usage_distribution     |   object  |  categorical   |\n",
            "|   tail_cpu_usage_distribution   |   object  |  categorical   |\n",
            "|             cluster             |   int64   |   numerical    |\n",
            "|              event              |   object  |  categorical   |\n",
            "|              failed             |   int64   |   numerical    |\n",
            "+---------------------------------+-----------+----------------+\n"
          ]
        }
      ]
    },
    {
      "cell_type": "code",
      "source": [
        "cluster_data_df.drop_duplicates(inplace=True)"
      ],
      "metadata": {
        "id": "oV33s9UdEkgA"
      },
      "execution_count": 22,
      "outputs": []
    },
    {
      "cell_type": "markdown",
      "source": [
        "# Feature Selection and Engineering"
      ],
      "metadata": {
        "id": "L9ycIw1xFL6B"
      }
    },
    {
      "cell_type": "code",
      "source": [
        "'''\n",
        "Handling Missing Values:\n",
        "For columns with a high percentage of missing values, we might consider dropping them.\n",
        "For other columns, you might want to fill in the missing values with an appropriate strategy\n",
        "(mean, median, mode, or a specific value).\n",
        "\n",
        "'''\n",
        "\n",
        "threshold = 0.7  # For instance, if 70% of data is missing\n",
        "missing_data_ratio = cluster_data_df.isnull().sum() / len(cluster_data_df)\n",
        "cols_to_drop = missing_data_ratio[missing_data_ratio > threshold].index\n",
        "cluster_data_df.drop(columns=cols_to_drop, inplace=True)\n",
        "\n",
        "# For numerical columns, fill missing values with the median\n",
        "for column in numerical_columns:\n",
        "    cluster_data_df[column].fillna(cluster_data_df[column].median(), inplace=True)\n",
        "\n",
        "# For categorical columns, fill missing values with the mode\n",
        "for column in categorical_columns:\n",
        "    cluster_data_df[column].fillna(cluster_data_df[column].mode()[0], inplace=True)\n"
      ],
      "metadata": {
        "id": "0czqRmB1ExTM"
      },
      "execution_count": 23,
      "outputs": []
    },
    {
      "cell_type": "code",
      "source": [
        "'''\n",
        "Dropping Low Variance Columns:\n",
        "Columns with very low variance might not add much value.\n",
        "'''\n",
        "from sklearn.feature_selection import VarianceThreshold\n",
        "\n",
        "selector = VarianceThreshold(threshold=0.01)  # A threshold of 0.01 for variance\n",
        "selector.fit(cluster_data_df[numerical_columns])\n",
        "cols_to_drop = cluster_data_df[numerical_columns].columns[~selector.get_support()]\n",
        "cluster_data_df.drop(columns=cols_to_drop, inplace=True)\n"
      ],
      "metadata": {
        "id": "adLXv1waE-5S"
      },
      "execution_count": 24,
      "outputs": []
    },
    {
      "cell_type": "code",
      "source": [
        "'''\n",
        "Feature Engineering:\n",
        "Normalization/Standardization of Numerical Columns:\n",
        "Since RL algorithms (especially deep RL) are sensitive to\n",
        "the scale of the data, we will standardize the numerical features.\n",
        "'''\n",
        "\n",
        "from sklearn.preprocessing import StandardScaler\n",
        "\n",
        "# Filtering columns that are actually present in the DataFrame\n",
        "valid_numerical_columns = [col for col in numerical_columns if col in cluster_data_df.columns]\n",
        "\n",
        "# Applying the StandardScaler on the valid columns\n",
        "scaler = StandardScaler()\n",
        "cluster_data_df[valid_numerical_columns] = scaler.fit_transform(cluster_data_df[valid_numerical_columns])\n"
      ],
      "metadata": {
        "id": "heZoe3DzFOd2"
      },
      "execution_count": 25,
      "outputs": []
    },
    {
      "cell_type": "code",
      "source": [
        "'''\n",
        "Encoding Categorical Features:\n",
        "we might want to convert categorical features into a format that can be\n",
        "provided to machine learning algorithms to improve their performance.\n",
        "'''\n",
        "\n",
        "for column in categorical_columns:\n",
        "    dummies = pd.get_dummies(cluster_data_df[column], prefix=column, sparse=True)\n",
        "    cluster_data_df = pd.concat([cluster_data_df, dummies], axis=1)\n",
        "    cluster_data_df.drop(column, axis=1, inplace=True)\n",
        "\n"
      ],
      "metadata": {
        "id": "aPU4ihNCFhzX"
      },
      "execution_count": 26,
      "outputs": []
    },
    {
      "cell_type": "markdown",
      "source": [
        "# Next Steps:\n",
        "\n",
        "Now that we have loaded the data, conducted exploratory data analysis (EDA), and pre-processed it, the next steps are:\n",
        "Then, based on the state of the system (i.e., the load on each server, memory utilization, CPU usage, etc.) and the possible actions (e.g., redirect traffic, start a new server instance), the RL agent will learn the best action to take in each state to maximize its cumulative reward. The exact state and action definitions will depend on your specific problem and infrastructure details.\n",
        "\n",
        "Problem Formulation: Before jumping into Reinforcement Learning (RL), we need to define the problem clearly. For a cloud load balancer, the goal might be to distribute incoming traffic across a number of servers efficiently to maximize the throughput, minimize response time, etc.\n",
        "State Representation: Decide on how to represent the state of your system. In the case of a load balancer, the state could consist of metrics like the current load of each server, the queue length of requests, etc.\n",
        "\n",
        "Action Definition: What are the actions that the RL agent can take? For a load balancer, this might be directing traffic to a particular server.\n",
        "\n",
        "\n",
        "Reward Function: This is crucial in RL. Define a reward function that gives a signal to the agent about how good or bad its action was. For a load balancer, a simple reward might be negative for every request that isn't handled within a certain time.\n",
        "\n",
        "\n",
        "Choose an RL Algorithm: Depending on the problem's complexity and the amount of data, we might want to start with simpler algorithms like Q-learning, or go with more complex methods like Deep Q Networks (DQNs) or Proximal Policy Optimization (PPO).\n",
        "\n",
        "\n",
        "Training the Agent: Use the historical data we have to train the RL agent. We need to make sure to split the data into training and validation sets to evaluate the agent's performance.\n",
        "\n",
        "\n",
        "Evaluation: After training, evaluate the RL agent's performance on a test dataset or in a simulated environment. This will give us an idea of how well the agent might perform in a real-world scenario.\n",
        "\n",
        "\n",
        "Deployment: Once satisfied with the performance, you can deploy the RL-based load balancer in a controlled environment. Monitor its performance closely to ensure it's making the right decisions.\n",
        "Continuous Learning: The environment might change over time (e.g., different traffic patterns), so it's essential to keep re-training or fine-tuning the agent to adapt to new situations."
      ],
      "metadata": {
        "id": "gPidzFduKmlV"
      }
    },
    {
      "cell_type": "markdown",
      "source": [
        "# State Representation"
      ],
      "metadata": {
        "id": "3k81I8AlKuR-"
      }
    },
    {
      "cell_type": "code",
      "source": [],
      "metadata": {
        "id": "JKEPEcpxSpHl"
      },
      "execution_count": null,
      "outputs": []
    },
    {
      "cell_type": "markdown",
      "source": [
        "# Reward Function\n",
        "\n",
        "The reward can be based on a combination of the following:\n",
        "\n",
        "\n",
        "Response Time: Higher rewards for faster response times. This can be inferred from metrics like cpu_usage_distribution and assigned_memory.\n",
        "\n",
        "\n",
        "Server Utilization:\n",
        "Provide higher rewards when servers are utilized up to a certain threshold (e.g., 85% of their capacity).\n",
        "\n",
        "\n",
        "Penalize the agent if the cpu_usage_distribution for any server goes beyond a critical limit, say 90%.\n",
        "\n",
        "\n",
        "Penalize the agent if the assigned_memory for any server is above a critical utilization limit, say 95%.\n",
        "\n",
        "\n",
        "Energy Consumption: Give higher rewards for actions that result in lower energy consumption. Though direct metrics for energy aren't provided, you could infer from cpu_usage_distribution and memory_accesses_per_instruction.\n",
        "Server Failures: Heavily penalize the agent if any server fails (failed column)."
      ],
      "metadata": {
        "id": "dC7PWofRSpYm"
      }
    },
    {
      "cell_type": "code",
      "source": [],
      "metadata": {
        "id": "rnR_vB4_StjM"
      },
      "execution_count": null,
      "outputs": []
    },
    {
      "cell_type": "code",
      "source": [
        "def reward_function(state):\n",
        "    reward = 0\n",
        "\n",
        "    # Extract state variables\n",
        "    response_time, cpu_usage_distribution, assigned_memory, failed, cycles_per_instruction, mem_access_per_instr = state  # Re-adjust based on your actual state representation\n",
        "\n",
        "    # Response Time Reward\n",
        "    desired_response_time = 100  # example threshold\n",
        "    reward += max((desired_response_time - response_time) / desired_response_time, -1)  # Scaled between -1 and 1\n",
        "\n",
        "    # Server Utilization Reward\n",
        "    average_cpu_usage = float(cpu_usage_distribution['average_usage'])  # Convert from categorical string to float\n",
        "    maximum_cpu_usage = float(cpu_usage_distribution['maximum_usage'])\n",
        "\n",
        "    if 60 <= average_cpu_usage <= 85:\n",
        "        reward += 1\n",
        "    if maximum_cpu_usage > 90 or assigned_memory > 90:\n",
        "        reward -= 5\n",
        "    if average_cpu_usage < 60:\n",
        "        reward -= 1\n",
        "\n",
        "    # Server Failure Penalty\n",
        "    if failed:\n",
        "        reward -= 10\n",
        "\n",
        "    # Energy Consumption (Inferred)\n",
        "    energy_efficiency = cycles_per_instruction / (mem_access_per_instr + 1e-5)  # Adding a small value to prevent division by zero\n",
        "    if energy_efficiency < 1:  # 1 is an arbitrary threshold, adjust based on domain insights\n",
        "        reward += 0.5\n",
        "    else:\n",
        "        reward -= 0.5\n",
        "\n",
        "    return reward\n"
      ],
      "metadata": {
        "id": "U2P1EoRxKvVI"
      },
      "execution_count": 29,
      "outputs": []
    },
    {
      "cell_type": "markdown",
      "source": [
        "# Implementing RL Algorithm"
      ],
      "metadata": {
        "id": "fGGVs6-iTF5d"
      }
    },
    {
      "cell_type": "code",
      "source": [
        "\n",
        "\n",
        "import numpy as np\n",
        "\n",
        "class CloudBalancerEnvironment:\n",
        "    def __init__(self):\n",
        "        # Initial states\n",
        "        self.state = {\n",
        "            'cpu_usage_distribution': {'average_usage': np.random.rand()*100, 'maximum_usage': np.random.rand()*100},  # For simplicity, we're randomizing between 0-100%. In reality, fetch from data.\n",
        "            'assigned_memory': np.random.rand()*100,\n",
        "            'failed': np.random.choice([True, False]),\n",
        "            'page_cache_memory': np.random.rand()*100,\n",
        "            'cycles_per_instruction': np.random.rand(),\n",
        "            'memory_accesses_per_instruction': np.random.rand()\n",
        "        }\n",
        "        self.current_state = None\n",
        "        self.done = False  # to check if the episode is done\n",
        "\n",
        "    def step(self, action):\n",
        "        # Here, update the state based on the action. This is a stub and will be more complex in real-world applications.\n",
        "        # For the sake of the example, we just randomize the state again.\n",
        "        self.state = {\n",
        "            'cpu_usage_distribution': {'average_usage': np.random.rand()*100, 'maximum_usage': np.random.rand()*100},\n",
        "            'assigned_memory': np.random.rand()*100,\n",
        "            'failed': np.random.choice([True, False]),\n",
        "            'page_cache_memory': np.random.rand()*100,\n",
        "            'cycles_per_instruction': np.random.rand(),\n",
        "            'memory_accesses_per_instruction': np.random.rand()\n",
        "        }\n",
        "\n",
        "        reward = self.calculate_reward(action)\n",
        "        return self.state, reward\n",
        "\n",
        "    def calculate_reward(self, action):\n",
        "        reward = 0\n",
        "        average_cpu_usage = self.state['cpu_usage_distribution']['average_usage']\n",
        "        maximum_cpu_usage = self.state['cpu_usage_distribution']['maximum_usage']\n",
        "\n",
        "        # Response Time Reward\n",
        "        reward += max(1 - average_cpu_usage/100, -1)\n",
        "        if maximum_cpu_usage > 90 or self.state['assigned_memory'] > 90:\n",
        "            reward -= 5\n",
        "        if average_cpu_usage < 60:\n",
        "            reward -= 1\n",
        "\n",
        "        # Server Failure Penalty\n",
        "        if self.state['failed']:\n",
        "            reward -= 10\n",
        "\n",
        "        # Energy Consumption (Inferred)\n",
        "        energy_efficiency = self.state['cycles_per_instruction'] / (self.state['memory_accesses_per_instruction'] + 1e-5)\n",
        "        if energy_efficiency < 1:\n",
        "            reward += 0.5\n",
        "        else:\n",
        "            reward -= 0.5\n",
        "\n",
        "        return reward\n",
        "\n",
        "    def reset(self):\n",
        "        self.__init__()\n",
        "\n",
        "class LoadBalancerAgent:\n",
        "    def __init__(self, n_states, n_actions, alpha=0.1, gamma=0.9, epsilon=0.1):\n",
        "        self.n_actions = n_actions\n",
        "        self.q_table = np.zeros((n_states, n_actions))\n",
        "        self.alpha = alpha  # Learning rate\n",
        "        self.gamma = gamma  # Discount factor\n",
        "        self.epsilon = epsilon  # Exploration rate\n",
        "\n",
        "    def select_action(self, state):\n",
        "        # Epsilon-greedy action selection\n",
        "        if np.random.uniform(0, 1) < self.epsilon:\n",
        "            return np.random.choice(self.n_actions)\n",
        "        else:\n",
        "            return np.argmax(self.q_table[state])\n",
        "\n",
        "    def update(self, state, action, reward, next_state):\n",
        "        # Q-learning update rule\n",
        "        best_next_action = np.argmax(self.q_table[next_state])\n",
        "        td_target = reward + self.gamma * self.q_table[next_state, best_next_action]\n",
        "        td_error = td_target - self.q_table[state, action]\n",
        "        self.q_table[state, action] += self.alpha * td_error\n",
        "\n",
        "# Number of states is a rough approximation for simplicity\n",
        "# Assuming each state variable can take 100 values, and there are 6 state variables\n",
        "n_states = 100 ** 6\n",
        "env = CloudBalancerEnvironment()\n",
        "agent = LoadBalancerAgent(n_states, n_actions=3)\n"
      ],
      "metadata": {
        "id": "4QIlhGOmRsT2"
      },
      "execution_count": 34,
      "outputs": []
    },
    {
      "cell_type": "markdown",
      "source": [
        "# Training the Agent"
      ],
      "metadata": {
        "id": "Yl3R2CgpS2M5"
      }
    },
    {
      "cell_type": "code",
      "source": [
        "# Train the agent\n",
        "for episode in range(100):\n",
        "    state = env.reset()\n",
        "    if state is None:\n",
        "        raise ValueError(\"The environment's reset method returned None instead of an initial state.\")\n",
        "    total_reward = 0\n",
        "\n",
        "    for t in range(1000):\n",
        "        # Encode the state (this is a naive encoding for simplicity, a more complex encoding would be better)\n",
        "        state_idx = sum([int(val*100**i) for i, val in enumerate(state)])\n",
        "\n",
        "        action = agent.select_action(state_idx)\n",
        "        next_state, reward = env.step(action)\n",
        "        next_state_idx = sum([int(val*100**i) for i, val in enumerate(next_state)])\n",
        "\n",
        "        agent.update(state_idx, action, reward, next_state_idx)\n",
        "\n",
        "        state = next_state\n",
        "        total_reward += reward\n",
        "\n",
        "    print(f\"Episode: {episode+1}, Total Reward: {total_reward}\")\n"
      ],
      "metadata": {
        "id": "yvjK6bi-S3xt"
      },
      "execution_count": null,
      "outputs": []
    },
    {
      "cell_type": "markdown",
      "source": [
        "# Evaluation"
      ],
      "metadata": {
        "id": "t4bmb74tS3-J"
      }
    },
    {
      "cell_type": "code",
      "source": [],
      "metadata": {
        "id": "lcXaKxD9S8Hc"
      },
      "execution_count": null,
      "outputs": []
    },
    {
      "cell_type": "code",
      "source": [],
      "metadata": {
        "id": "X6L1p3iVS8J8"
      },
      "execution_count": null,
      "outputs": []
    }
  ]
}